{
 "cells": [
  {
   "cell_type": "markdown",
   "metadata": {},
   "source": [
    "<h1>Introduction to Data Acquisition using Tidyverse</h1>\n",
    "\n",
    "\n",
    "\n",
    "<h3>Welcome!</h3>\n",
    "\n",
    "<p>\n",
    "In this section, you will learn how to approach data acquisition in various ways, and obtain necessary information about the dataset. By the end of this lab, you will successfully load the data into Jupyter Notebook, and gain some fundamental insights via the Tidyverse library.\n",
    "</p>\n"
   ]
  },
  {
   "cell_type": "markdown",
   "metadata": {
    "jp-MarkdownHeadingCollapsed": true,
    "tags": []
   },
   "source": [
    "### Table of Contents:\n",
    "\n",
    "*   [1. Data Acquisition](#cell1)\n",
    "*   [2. Basic Insights of the Dataset](#cell2)\n"
   ]
  },
  {
   "cell_type": "markdown",
   "metadata": {},
   "source": [
    "<a id=\"cell1\"></a>\n",
    "\n",
    "<h1 id=\"data_acquisition\">1. Data Acquisition</h1>\n",
    "<p>\n",
    "There are various formats for a dataset like .csv, .json, .xlsx, etc. The dataset can be stored in different places, on your local machine or sometimes online. In this section, you will learn how to load a dataset into our Jupyter Notebook.<br>\n",
    "\n",
    "In our case, the <a href=\"https://developer.ibm.com/exchanges/data/all/airline/?utm_medium=Exinfluencer&utm_source=Exinfluencer&utm_content=000026UJ&utm_term=10006555&utm_id=NA-SkillsNetwork-Channel-SkillsNetworkCoursesIBMDA0151ENSkillsNetwork21582452-2021-01-01\">Airline Dataset</a> is an online source, and it is in CSV (comma separated value) format. Let's use a smaller subset of the original dataset as an example to practice data reading.\n",
    "\n",
    "<ul>\n",
    "    <li>data source: <a href=\"https://dax-cdn.cdn.appdomain.cloud/dax-airline/1.0.1/lax_to_jfk.tar.gz?utm_medium=Exinfluencer&utm_source=Exinfluencer&utm_content=000026UJ&utm_term=10006555&utm_id=NA-SkillsNetwork-Channel-SkillsNetworkCoursesIBMDA0151ENSkillsNetwork21582452-2021-01-01\" target=\"_blank\">https://dax-cdn.cdn.appdomain.cloud/dax-airline/1.0.1/lax_to_jfk.tar.gz</a></li>\n",
    "    <li>data type: csv</li>\n",
    "</ul>\n",
    "\n",
    "The Tidyverse library is a useful tool that enables us to read various datasets into a data frame; our Jupyter notebook platforms have a built-in <b>Tidyverse library</b> so that all we need to do is import Tidyverse without installing.\n",
    "\n",
    "</p>\n",
    "\n",
    "However, if you decide to run this on your local machine, you can use the below line of code to install Tidyverse before loading.\n"
   ]
  },
  {
   "cell_type": "code",
   "execution_count": 24,
   "metadata": {},
   "outputs": [],
   "source": [
    "# Uncomment to install tidyverse if running locally\n",
    "# install.packages(\"tidyverse\")"
   ]
  },
  {
   "cell_type": "code",
   "execution_count": 26,
   "metadata": {},
   "outputs": [],
   "source": [
    "# Load tidyverse\n",
    "library(tidyverse)"
   ]
  },
  {
   "cell_type": "markdown",
   "metadata": {},
   "source": [
    "The Tidyverse library has a suite of packages that all work together well, namely:\n",
    "\n",
    "*   tidyr: helps create tidy data\n",
    "*   dplyr: manipulates and transforms data\n",
    "*   readr: easily read different types of datasets\n",
    "*   purrr: functional programming toolkit\n",
    "*   ggplot2: create plots and visualizations\n",
    "\n",
    "In this notebook, we will mainly use functions from readr and dplyr. However, don't worry about memorizing which function is from which library, just know that all are included in Tidyverse.\n"
   ]
  },
  {
   "cell_type": "markdown",
   "metadata": {},
   "source": [
    "<h2>Read Data</h2>\n",
    "<p>\n",
    "We use the function <code>readr::read_csv()</code> to read csv files. The <code>::</code> tells you which package the function is from, so <code>read_csv()</code> is from library <code>readr</code> (which is automatically loaded with Tidyverse). There are a few parts to the function to go over:\n",
    "</p>\n",
    "\n",
    "*   `file` (or the first parameter): this is file path along with quotation marks, so that `read_csv()` will read the file into a data frame from that address. The file path can be either an URL or your local file address.\n",
    "*   `col_names`: by deafult this is set to `col_names = TRUE`. If this is TRUE then the first row is set as the headers (which is correct in this dataset).\n",
    "*   `col_types`: used to specify what types columns are. By default, `read_csv()` will guess the type of the columns but if there are columns you want to specify you can do so as well.\n",
    "    *   Posible types you could use are `col_logical()`, `col_integer()`, `col_number()`, `col_character()`. You can look at the documentation of `readr::cols` for more.\n",
    "\n",
    "You can assign the loaded dataset to any variable name, here it is `sub_airline`.\n"
   ]
  },
  {
   "cell_type": "code",
   "execution_count": 27,
   "metadata": {
    "tags": []
   },
   "outputs": [
    {
     "name": "stderr",
     "output_type": "stream",
     "text": [
      "Warning message in untar2(tarfile, files, list, exdir, restore_times):\n",
      "“using pax extended headers”"
     ]
    }
   ],
   "source": [
    "# url where the data is located\n",
    "url <- \"https://dax-cdn.cdn.appdomain.cloud/dax-airline/1.0.1/lax_to_jfk.tar.gz\"\n",
    "# download the file\n",
    "download.file(url, destfile = \"lax_to_jfk.tar.gz\")\n",
    "# untar the file so we can get the csv only\n",
    "untar(\"lax_to_jfk.tar.gz\", tar = \"internal\")\n",
    "# read_csv only \n",
    "sub_airline <- read_csv(\"lax_to_jfk/lax_to_jfk.csv\",\n",
    "                     col_types = cols(\n",
    "                      'DivDistance' = col_number(),\n",
    "                      'DivArrDelay' = col_number()\n",
    "                      ))"
   ]
  },
  {
   "cell_type": "markdown",
   "metadata": {},
   "source": [
    "After reading the dataset, there are a few functions you can use to get some initial information about the dataframe:\n",
    "\n",
    "*   `head(dataframe, n)`: returns the first *n* rows of the dataframe, if *n* is not specified, then by default the first 6 rows (not including the column headers) are returned\n",
    "*   `tail(dataframe, n)`: returns the last *n* rows of the dataframe, if *n* is not specified, then by default the last 6 rows are returned.\n",
    "*   `colnames(dataframe)`: retrieves the column names of the dataframe\n",
    "*   `dim(dataframe)`: retrieves the dimension (number of rows and columns) of the dataframe\n"
   ]
  },
  {
   "cell_type": "code",
   "execution_count": 5,
   "metadata": {},
   "outputs": [
    {
     "data": {
      "text/html": [
       "<table>\n",
       "<caption>A tibble: 3 × 21</caption>\n",
       "<thead>\n",
       "\t<tr><th scope=col>Month</th><th scope=col>DayOfWeek</th><th scope=col>FlightDate</th><th scope=col>Reporting_Airline</th><th scope=col>Origin</th><th scope=col>Dest</th><th scope=col>CRSDepTime</th><th scope=col>CRSArrTime</th><th scope=col>DepTime</th><th scope=col>ArrTime</th><th scope=col>⋯</th><th scope=col>ArrDelayMinutes</th><th scope=col>CarrierDelay</th><th scope=col>WeatherDelay</th><th scope=col>NASDelay</th><th scope=col>SecurityDelay</th><th scope=col>LateAircraftDelay</th><th scope=col>DepDelay</th><th scope=col>DepDelayMinutes</th><th scope=col>DivDistance</th><th scope=col>DivArrDelay</th></tr>\n",
       "\t<tr><th scope=col>&lt;dbl&gt;</th><th scope=col>&lt;dbl&gt;</th><th scope=col>&lt;date&gt;</th><th scope=col>&lt;chr&gt;</th><th scope=col>&lt;chr&gt;</th><th scope=col>&lt;chr&gt;</th><th scope=col>&lt;chr&gt;</th><th scope=col>&lt;chr&gt;</th><th scope=col>&lt;chr&gt;</th><th scope=col>&lt;chr&gt;</th><th scope=col>⋯</th><th scope=col>&lt;dbl&gt;</th><th scope=col>&lt;dbl&gt;</th><th scope=col>&lt;dbl&gt;</th><th scope=col>&lt;dbl&gt;</th><th scope=col>&lt;dbl&gt;</th><th scope=col>&lt;dbl&gt;</th><th scope=col>&lt;dbl&gt;</th><th scope=col>&lt;dbl&gt;</th><th scope=col>&lt;dbl&gt;</th><th scope=col>&lt;dbl&gt;</th></tr>\n",
       "</thead>\n",
       "<tbody>\n",
       "\t<tr><td> 3</td><td>5</td><td>2003-03-28</td><td>UA</td><td>LAX</td><td>JFK</td><td>2210</td><td>0615</td><td>2209</td><td>0617</td><td>⋯</td><td>2</td><td>NA</td><td>NA</td><td>NA</td><td>NA</td><td>NA</td><td>-1</td><td>0</td><td>NA</td><td>NA</td></tr>\n",
       "\t<tr><td>11</td><td>4</td><td>2018-11-29</td><td>AS</td><td>LAX</td><td>JFK</td><td>1045</td><td>1912</td><td>1049</td><td>1851</td><td>⋯</td><td>0</td><td>NA</td><td>NA</td><td>NA</td><td>NA</td><td>NA</td><td> 4</td><td>4</td><td>NA</td><td>NA</td></tr>\n",
       "\t<tr><td> 8</td><td>5</td><td>2015-08-28</td><td>UA</td><td>LAX</td><td>JFK</td><td>0805</td><td>1634</td><td>0757</td><td>1620</td><td>⋯</td><td>0</td><td>NA</td><td>NA</td><td>NA</td><td>NA</td><td>NA</td><td>-8</td><td>0</td><td>NA</td><td>NA</td></tr>\n",
       "</tbody>\n",
       "</table>\n"
      ],
      "text/latex": [
       "A tibble: 3 × 21\n",
       "\\begin{tabular}{lllllllllllllllllllll}\n",
       " Month & DayOfWeek & FlightDate & Reporting\\_Airline & Origin & Dest & CRSDepTime & CRSArrTime & DepTime & ArrTime & ⋯ & ArrDelayMinutes & CarrierDelay & WeatherDelay & NASDelay & SecurityDelay & LateAircraftDelay & DepDelay & DepDelayMinutes & DivDistance & DivArrDelay\\\\\n",
       " <dbl> & <dbl> & <date> & <chr> & <chr> & <chr> & <chr> & <chr> & <chr> & <chr> & ⋯ & <dbl> & <dbl> & <dbl> & <dbl> & <dbl> & <dbl> & <dbl> & <dbl> & <dbl> & <dbl>\\\\\n",
       "\\hline\n",
       "\t  3 & 5 & 2003-03-28 & UA & LAX & JFK & 2210 & 0615 & 2209 & 0617 & ⋯ & 2 & NA & NA & NA & NA & NA & -1 & 0 & NA & NA\\\\\n",
       "\t 11 & 4 & 2018-11-29 & AS & LAX & JFK & 1045 & 1912 & 1049 & 1851 & ⋯ & 0 & NA & NA & NA & NA & NA &  4 & 4 & NA & NA\\\\\n",
       "\t  8 & 5 & 2015-08-28 & UA & LAX & JFK & 0805 & 1634 & 0757 & 1620 & ⋯ & 0 & NA & NA & NA & NA & NA & -8 & 0 & NA & NA\\\\\n",
       "\\end{tabular}\n"
      ],
      "text/markdown": [
       "\n",
       "A tibble: 3 × 21\n",
       "\n",
       "| Month &lt;dbl&gt; | DayOfWeek &lt;dbl&gt; | FlightDate &lt;date&gt; | Reporting_Airline &lt;chr&gt; | Origin &lt;chr&gt; | Dest &lt;chr&gt; | CRSDepTime &lt;chr&gt; | CRSArrTime &lt;chr&gt; | DepTime &lt;chr&gt; | ArrTime &lt;chr&gt; | ⋯ ⋯ | ArrDelayMinutes &lt;dbl&gt; | CarrierDelay &lt;dbl&gt; | WeatherDelay &lt;dbl&gt; | NASDelay &lt;dbl&gt; | SecurityDelay &lt;dbl&gt; | LateAircraftDelay &lt;dbl&gt; | DepDelay &lt;dbl&gt; | DepDelayMinutes &lt;dbl&gt; | DivDistance &lt;dbl&gt; | DivArrDelay &lt;dbl&gt; |\n",
       "|---|---|---|---|---|---|---|---|---|---|---|---|---|---|---|---|---|---|---|---|---|\n",
       "|  3 | 5 | 2003-03-28 | UA | LAX | JFK | 2210 | 0615 | 2209 | 0617 | ⋯ | 2 | NA | NA | NA | NA | NA | -1 | 0 | NA | NA |\n",
       "| 11 | 4 | 2018-11-29 | AS | LAX | JFK | 1045 | 1912 | 1049 | 1851 | ⋯ | 0 | NA | NA | NA | NA | NA |  4 | 4 | NA | NA |\n",
       "|  8 | 5 | 2015-08-28 | UA | LAX | JFK | 0805 | 1634 | 0757 | 1620 | ⋯ | 0 | NA | NA | NA | NA | NA | -8 | 0 | NA | NA |\n",
       "\n"
      ],
      "text/plain": [
       "  Month DayOfWeek FlightDate Reporting_Airline Origin Dest CRSDepTime\n",
       "1  3    5         2003-03-28 UA                LAX    JFK  2210      \n",
       "2 11    4         2018-11-29 AS                LAX    JFK  1045      \n",
       "3  8    5         2015-08-28 UA                LAX    JFK  0805      \n",
       "  CRSArrTime DepTime ArrTime ⋯ ArrDelayMinutes CarrierDelay WeatherDelay\n",
       "1 0615       2209    0617    ⋯ 2               NA           NA          \n",
       "2 1912       1049    1851    ⋯ 0               NA           NA          \n",
       "3 1634       0757    1620    ⋯ 0               NA           NA          \n",
       "  NASDelay SecurityDelay LateAircraftDelay DepDelay DepDelayMinutes DivDistance\n",
       "1 NA       NA            NA                -1       0               NA         \n",
       "2 NA       NA            NA                 4       4               NA         \n",
       "3 NA       NA            NA                -8       0               NA         \n",
       "  DivArrDelay\n",
       "1 NA         \n",
       "2 NA         \n",
       "3 NA         "
      ]
     },
     "metadata": {},
     "output_type": "display_data"
    }
   ],
   "source": [
    "# show the first n = 3 rows\n",
    "head(sub_airline, 3)"
   ]
  },
  {
   "cell_type": "markdown",
   "metadata": {},
   "source": [
    "Or, you can choose to not input `n`, then it will show the first or the last 6 rows as default.\n"
   ]
  },
  {
   "cell_type": "code",
   "execution_count": 6,
   "metadata": {},
   "outputs": [
    {
     "data": {
      "text/html": [
       "<table>\n",
       "<caption>A tibble: 6 × 21</caption>\n",
       "<thead>\n",
       "\t<tr><th scope=col>Month</th><th scope=col>DayOfWeek</th><th scope=col>FlightDate</th><th scope=col>Reporting_Airline</th><th scope=col>Origin</th><th scope=col>Dest</th><th scope=col>CRSDepTime</th><th scope=col>CRSArrTime</th><th scope=col>DepTime</th><th scope=col>ArrTime</th><th scope=col>⋯</th><th scope=col>ArrDelayMinutes</th><th scope=col>CarrierDelay</th><th scope=col>WeatherDelay</th><th scope=col>NASDelay</th><th scope=col>SecurityDelay</th><th scope=col>LateAircraftDelay</th><th scope=col>DepDelay</th><th scope=col>DepDelayMinutes</th><th scope=col>DivDistance</th><th scope=col>DivArrDelay</th></tr>\n",
       "\t<tr><th scope=col>&lt;dbl&gt;</th><th scope=col>&lt;dbl&gt;</th><th scope=col>&lt;date&gt;</th><th scope=col>&lt;chr&gt;</th><th scope=col>&lt;chr&gt;</th><th scope=col>&lt;chr&gt;</th><th scope=col>&lt;chr&gt;</th><th scope=col>&lt;chr&gt;</th><th scope=col>&lt;chr&gt;</th><th scope=col>&lt;chr&gt;</th><th scope=col>⋯</th><th scope=col>&lt;dbl&gt;</th><th scope=col>&lt;dbl&gt;</th><th scope=col>&lt;dbl&gt;</th><th scope=col>&lt;dbl&gt;</th><th scope=col>&lt;dbl&gt;</th><th scope=col>&lt;dbl&gt;</th><th scope=col>&lt;dbl&gt;</th><th scope=col>&lt;dbl&gt;</th><th scope=col>&lt;dbl&gt;</th><th scope=col>&lt;dbl&gt;</th></tr>\n",
       "</thead>\n",
       "<tbody>\n",
       "\t<tr><td> 3</td><td>5</td><td>2003-03-28</td><td>UA</td><td>LAX</td><td>JFK</td><td>2210</td><td>0615</td><td>2209</td><td>0617</td><td>⋯</td><td>2</td><td>NA</td><td>NA</td><td>NA</td><td>NA</td><td>NA</td><td>-1</td><td>0</td><td>NA</td><td>NA</td></tr>\n",
       "\t<tr><td>11</td><td>4</td><td>2018-11-29</td><td>AS</td><td>LAX</td><td>JFK</td><td>1045</td><td>1912</td><td>1049</td><td>1851</td><td>⋯</td><td>0</td><td>NA</td><td>NA</td><td>NA</td><td>NA</td><td>NA</td><td> 4</td><td>4</td><td>NA</td><td>NA</td></tr>\n",
       "\t<tr><td> 8</td><td>5</td><td>2015-08-28</td><td>UA</td><td>LAX</td><td>JFK</td><td>0805</td><td>1634</td><td>0757</td><td>1620</td><td>⋯</td><td>0</td><td>NA</td><td>NA</td><td>NA</td><td>NA</td><td>NA</td><td>-8</td><td>0</td><td>NA</td><td>NA</td></tr>\n",
       "\t<tr><td> 4</td><td>7</td><td>2003-04-20</td><td>DL</td><td>LAX</td><td>JFK</td><td>2205</td><td>0619</td><td>2212</td><td>0616</td><td>⋯</td><td>0</td><td>NA</td><td>NA</td><td>NA</td><td>NA</td><td>NA</td><td> 7</td><td>7</td><td>NA</td><td>NA</td></tr>\n",
       "\t<tr><td>11</td><td>3</td><td>2005-11-30</td><td>UA</td><td>LAX</td><td>JFK</td><td>0840</td><td>1653</td><td>0836</td><td>1640</td><td>⋯</td><td>0</td><td>NA</td><td>NA</td><td>NA</td><td>NA</td><td>NA</td><td>-4</td><td>0</td><td>NA</td><td>NA</td></tr>\n",
       "\t<tr><td> 4</td><td>1</td><td>1992-04-06</td><td>UA</td><td>LAX</td><td>JFK</td><td>1450</td><td>2308</td><td>1452</td><td>2248</td><td>⋯</td><td>0</td><td>NA</td><td>NA</td><td>NA</td><td>NA</td><td>NA</td><td> 2</td><td>2</td><td>NA</td><td>NA</td></tr>\n",
       "</tbody>\n",
       "</table>\n"
      ],
      "text/latex": [
       "A tibble: 6 × 21\n",
       "\\begin{tabular}{lllllllllllllllllllll}\n",
       " Month & DayOfWeek & FlightDate & Reporting\\_Airline & Origin & Dest & CRSDepTime & CRSArrTime & DepTime & ArrTime & ⋯ & ArrDelayMinutes & CarrierDelay & WeatherDelay & NASDelay & SecurityDelay & LateAircraftDelay & DepDelay & DepDelayMinutes & DivDistance & DivArrDelay\\\\\n",
       " <dbl> & <dbl> & <date> & <chr> & <chr> & <chr> & <chr> & <chr> & <chr> & <chr> & ⋯ & <dbl> & <dbl> & <dbl> & <dbl> & <dbl> & <dbl> & <dbl> & <dbl> & <dbl> & <dbl>\\\\\n",
       "\\hline\n",
       "\t  3 & 5 & 2003-03-28 & UA & LAX & JFK & 2210 & 0615 & 2209 & 0617 & ⋯ & 2 & NA & NA & NA & NA & NA & -1 & 0 & NA & NA\\\\\n",
       "\t 11 & 4 & 2018-11-29 & AS & LAX & JFK & 1045 & 1912 & 1049 & 1851 & ⋯ & 0 & NA & NA & NA & NA & NA &  4 & 4 & NA & NA\\\\\n",
       "\t  8 & 5 & 2015-08-28 & UA & LAX & JFK & 0805 & 1634 & 0757 & 1620 & ⋯ & 0 & NA & NA & NA & NA & NA & -8 & 0 & NA & NA\\\\\n",
       "\t  4 & 7 & 2003-04-20 & DL & LAX & JFK & 2205 & 0619 & 2212 & 0616 & ⋯ & 0 & NA & NA & NA & NA & NA &  7 & 7 & NA & NA\\\\\n",
       "\t 11 & 3 & 2005-11-30 & UA & LAX & JFK & 0840 & 1653 & 0836 & 1640 & ⋯ & 0 & NA & NA & NA & NA & NA & -4 & 0 & NA & NA\\\\\n",
       "\t  4 & 1 & 1992-04-06 & UA & LAX & JFK & 1450 & 2308 & 1452 & 2248 & ⋯ & 0 & NA & NA & NA & NA & NA &  2 & 2 & NA & NA\\\\\n",
       "\\end{tabular}\n"
      ],
      "text/markdown": [
       "\n",
       "A tibble: 6 × 21\n",
       "\n",
       "| Month &lt;dbl&gt; | DayOfWeek &lt;dbl&gt; | FlightDate &lt;date&gt; | Reporting_Airline &lt;chr&gt; | Origin &lt;chr&gt; | Dest &lt;chr&gt; | CRSDepTime &lt;chr&gt; | CRSArrTime &lt;chr&gt; | DepTime &lt;chr&gt; | ArrTime &lt;chr&gt; | ⋯ ⋯ | ArrDelayMinutes &lt;dbl&gt; | CarrierDelay &lt;dbl&gt; | WeatherDelay &lt;dbl&gt; | NASDelay &lt;dbl&gt; | SecurityDelay &lt;dbl&gt; | LateAircraftDelay &lt;dbl&gt; | DepDelay &lt;dbl&gt; | DepDelayMinutes &lt;dbl&gt; | DivDistance &lt;dbl&gt; | DivArrDelay &lt;dbl&gt; |\n",
       "|---|---|---|---|---|---|---|---|---|---|---|---|---|---|---|---|---|---|---|---|---|\n",
       "|  3 | 5 | 2003-03-28 | UA | LAX | JFK | 2210 | 0615 | 2209 | 0617 | ⋯ | 2 | NA | NA | NA | NA | NA | -1 | 0 | NA | NA |\n",
       "| 11 | 4 | 2018-11-29 | AS | LAX | JFK | 1045 | 1912 | 1049 | 1851 | ⋯ | 0 | NA | NA | NA | NA | NA |  4 | 4 | NA | NA |\n",
       "|  8 | 5 | 2015-08-28 | UA | LAX | JFK | 0805 | 1634 | 0757 | 1620 | ⋯ | 0 | NA | NA | NA | NA | NA | -8 | 0 | NA | NA |\n",
       "|  4 | 7 | 2003-04-20 | DL | LAX | JFK | 2205 | 0619 | 2212 | 0616 | ⋯ | 0 | NA | NA | NA | NA | NA |  7 | 7 | NA | NA |\n",
       "| 11 | 3 | 2005-11-30 | UA | LAX | JFK | 0840 | 1653 | 0836 | 1640 | ⋯ | 0 | NA | NA | NA | NA | NA | -4 | 0 | NA | NA |\n",
       "|  4 | 1 | 1992-04-06 | UA | LAX | JFK | 1450 | 2308 | 1452 | 2248 | ⋯ | 0 | NA | NA | NA | NA | NA |  2 | 2 | NA | NA |\n",
       "\n"
      ],
      "text/plain": [
       "  Month DayOfWeek FlightDate Reporting_Airline Origin Dest CRSDepTime\n",
       "1  3    5         2003-03-28 UA                LAX    JFK  2210      \n",
       "2 11    4         2018-11-29 AS                LAX    JFK  1045      \n",
       "3  8    5         2015-08-28 UA                LAX    JFK  0805      \n",
       "4  4    7         2003-04-20 DL                LAX    JFK  2205      \n",
       "5 11    3         2005-11-30 UA                LAX    JFK  0840      \n",
       "6  4    1         1992-04-06 UA                LAX    JFK  1450      \n",
       "  CRSArrTime DepTime ArrTime ⋯ ArrDelayMinutes CarrierDelay WeatherDelay\n",
       "1 0615       2209    0617    ⋯ 2               NA           NA          \n",
       "2 1912       1049    1851    ⋯ 0               NA           NA          \n",
       "3 1634       0757    1620    ⋯ 0               NA           NA          \n",
       "4 0619       2212    0616    ⋯ 0               NA           NA          \n",
       "5 1653       0836    1640    ⋯ 0               NA           NA          \n",
       "6 2308       1452    2248    ⋯ 0               NA           NA          \n",
       "  NASDelay SecurityDelay LateAircraftDelay DepDelay DepDelayMinutes DivDistance\n",
       "1 NA       NA            NA                -1       0               NA         \n",
       "2 NA       NA            NA                 4       4               NA         \n",
       "3 NA       NA            NA                -8       0               NA         \n",
       "4 NA       NA            NA                 7       7               NA         \n",
       "5 NA       NA            NA                -4       0               NA         \n",
       "6 NA       NA            NA                 2       2               NA         \n",
       "  DivArrDelay\n",
       "1 NA         \n",
       "2 NA         \n",
       "3 NA         \n",
       "4 NA         \n",
       "5 NA         \n",
       "6 NA         "
      ]
     },
     "metadata": {},
     "output_type": "display_data"
    }
   ],
   "source": [
    "# show the first 6 rows\n",
    "head(sub_airline)"
   ]
  },
  {
   "cell_type": "code",
   "execution_count": 7,
   "metadata": {},
   "outputs": [
    {
     "data": {
      "text/html": [
       "<table>\n",
       "<caption>A tibble: 6 × 21</caption>\n",
       "<thead>\n",
       "\t<tr><th scope=col>Month</th><th scope=col>DayOfWeek</th><th scope=col>FlightDate</th><th scope=col>Reporting_Airline</th><th scope=col>Origin</th><th scope=col>Dest</th><th scope=col>CRSDepTime</th><th scope=col>CRSArrTime</th><th scope=col>DepTime</th><th scope=col>ArrTime</th><th scope=col>⋯</th><th scope=col>ArrDelayMinutes</th><th scope=col>CarrierDelay</th><th scope=col>WeatherDelay</th><th scope=col>NASDelay</th><th scope=col>SecurityDelay</th><th scope=col>LateAircraftDelay</th><th scope=col>DepDelay</th><th scope=col>DepDelayMinutes</th><th scope=col>DivDistance</th><th scope=col>DivArrDelay</th></tr>\n",
       "\t<tr><th scope=col>&lt;dbl&gt;</th><th scope=col>&lt;dbl&gt;</th><th scope=col>&lt;date&gt;</th><th scope=col>&lt;chr&gt;</th><th scope=col>&lt;chr&gt;</th><th scope=col>&lt;chr&gt;</th><th scope=col>&lt;chr&gt;</th><th scope=col>&lt;chr&gt;</th><th scope=col>&lt;chr&gt;</th><th scope=col>&lt;chr&gt;</th><th scope=col>⋯</th><th scope=col>&lt;dbl&gt;</th><th scope=col>&lt;dbl&gt;</th><th scope=col>&lt;dbl&gt;</th><th scope=col>&lt;dbl&gt;</th><th scope=col>&lt;dbl&gt;</th><th scope=col>&lt;dbl&gt;</th><th scope=col>&lt;dbl&gt;</th><th scope=col>&lt;dbl&gt;</th><th scope=col>&lt;dbl&gt;</th><th scope=col>&lt;dbl&gt;</th></tr>\n",
       "</thead>\n",
       "<tbody>\n",
       "\t<tr><td>10</td><td>6</td><td>1996-10-19</td><td>AA</td><td>LAX</td><td>JFK</td><td>0700</td><td>1509</td><td>0700</td><td>1610</td><td>⋯</td><td>61</td><td>NA</td><td>NA</td><td>NA</td><td>NA</td><td>NA</td><td> 0</td><td>0</td><td>NA</td><td>NA</td></tr>\n",
       "\t<tr><td>10</td><td>3</td><td>2015-10-21</td><td>DL</td><td>LAX</td><td>JFK</td><td>2255</td><td>0720</td><td>2254</td><td>0723</td><td>⋯</td><td> 3</td><td>NA</td><td>NA</td><td>NA</td><td>NA</td><td>NA</td><td>-1</td><td>0</td><td>NA</td><td>NA</td></tr>\n",
       "\t<tr><td> 7</td><td>5</td><td>2012-07-06</td><td>UA</td><td>LAX</td><td>JFK</td><td>0605</td><td>1422</td><td>0600</td><td>1427</td><td>⋯</td><td> 5</td><td>NA</td><td>NA</td><td>NA</td><td>NA</td><td>NA</td><td>-5</td><td>0</td><td>NA</td><td>NA</td></tr>\n",
       "\t<tr><td> 1</td><td>3</td><td>2010-01-06</td><td>DL</td><td>LAX</td><td>JFK</td><td>2125</td><td>0543</td><td>2118</td><td>0540</td><td>⋯</td><td> 0</td><td>NA</td><td>NA</td><td>NA</td><td>NA</td><td>NA</td><td>-7</td><td>0</td><td>NA</td><td>NA</td></tr>\n",
       "\t<tr><td> 5</td><td>5</td><td>2009-05-15</td><td>AA</td><td>LAX</td><td>JFK</td><td>2115</td><td>0535</td><td>2119</td><td>0533</td><td>⋯</td><td> 0</td><td>NA</td><td>NA</td><td>NA</td><td>NA</td><td>NA</td><td> 4</td><td>4</td><td>NA</td><td>NA</td></tr>\n",
       "\t<tr><td> 7</td><td>4</td><td>2000-07-06</td><td>AA</td><td>LAX</td><td>JFK</td><td>2200</td><td>0622</td><td>2158</td><td>0610</td><td>⋯</td><td> 0</td><td>NA</td><td>NA</td><td>NA</td><td>NA</td><td>NA</td><td>-2</td><td>0</td><td>NA</td><td>NA</td></tr>\n",
       "</tbody>\n",
       "</table>\n"
      ],
      "text/latex": [
       "A tibble: 6 × 21\n",
       "\\begin{tabular}{lllllllllllllllllllll}\n",
       " Month & DayOfWeek & FlightDate & Reporting\\_Airline & Origin & Dest & CRSDepTime & CRSArrTime & DepTime & ArrTime & ⋯ & ArrDelayMinutes & CarrierDelay & WeatherDelay & NASDelay & SecurityDelay & LateAircraftDelay & DepDelay & DepDelayMinutes & DivDistance & DivArrDelay\\\\\n",
       " <dbl> & <dbl> & <date> & <chr> & <chr> & <chr> & <chr> & <chr> & <chr> & <chr> & ⋯ & <dbl> & <dbl> & <dbl> & <dbl> & <dbl> & <dbl> & <dbl> & <dbl> & <dbl> & <dbl>\\\\\n",
       "\\hline\n",
       "\t 10 & 6 & 1996-10-19 & AA & LAX & JFK & 0700 & 1509 & 0700 & 1610 & ⋯ & 61 & NA & NA & NA & NA & NA &  0 & 0 & NA & NA\\\\\n",
       "\t 10 & 3 & 2015-10-21 & DL & LAX & JFK & 2255 & 0720 & 2254 & 0723 & ⋯ &  3 & NA & NA & NA & NA & NA & -1 & 0 & NA & NA\\\\\n",
       "\t  7 & 5 & 2012-07-06 & UA & LAX & JFK & 0605 & 1422 & 0600 & 1427 & ⋯ &  5 & NA & NA & NA & NA & NA & -5 & 0 & NA & NA\\\\\n",
       "\t  1 & 3 & 2010-01-06 & DL & LAX & JFK & 2125 & 0543 & 2118 & 0540 & ⋯ &  0 & NA & NA & NA & NA & NA & -7 & 0 & NA & NA\\\\\n",
       "\t  5 & 5 & 2009-05-15 & AA & LAX & JFK & 2115 & 0535 & 2119 & 0533 & ⋯ &  0 & NA & NA & NA & NA & NA &  4 & 4 & NA & NA\\\\\n",
       "\t  7 & 4 & 2000-07-06 & AA & LAX & JFK & 2200 & 0622 & 2158 & 0610 & ⋯ &  0 & NA & NA & NA & NA & NA & -2 & 0 & NA & NA\\\\\n",
       "\\end{tabular}\n"
      ],
      "text/markdown": [
       "\n",
       "A tibble: 6 × 21\n",
       "\n",
       "| Month &lt;dbl&gt; | DayOfWeek &lt;dbl&gt; | FlightDate &lt;date&gt; | Reporting_Airline &lt;chr&gt; | Origin &lt;chr&gt; | Dest &lt;chr&gt; | CRSDepTime &lt;chr&gt; | CRSArrTime &lt;chr&gt; | DepTime &lt;chr&gt; | ArrTime &lt;chr&gt; | ⋯ ⋯ | ArrDelayMinutes &lt;dbl&gt; | CarrierDelay &lt;dbl&gt; | WeatherDelay &lt;dbl&gt; | NASDelay &lt;dbl&gt; | SecurityDelay &lt;dbl&gt; | LateAircraftDelay &lt;dbl&gt; | DepDelay &lt;dbl&gt; | DepDelayMinutes &lt;dbl&gt; | DivDistance &lt;dbl&gt; | DivArrDelay &lt;dbl&gt; |\n",
       "|---|---|---|---|---|---|---|---|---|---|---|---|---|---|---|---|---|---|---|---|---|\n",
       "| 10 | 6 | 1996-10-19 | AA | LAX | JFK | 0700 | 1509 | 0700 | 1610 | ⋯ | 61 | NA | NA | NA | NA | NA |  0 | 0 | NA | NA |\n",
       "| 10 | 3 | 2015-10-21 | DL | LAX | JFK | 2255 | 0720 | 2254 | 0723 | ⋯ |  3 | NA | NA | NA | NA | NA | -1 | 0 | NA | NA |\n",
       "|  7 | 5 | 2012-07-06 | UA | LAX | JFK | 0605 | 1422 | 0600 | 1427 | ⋯ |  5 | NA | NA | NA | NA | NA | -5 | 0 | NA | NA |\n",
       "|  1 | 3 | 2010-01-06 | DL | LAX | JFK | 2125 | 0543 | 2118 | 0540 | ⋯ |  0 | NA | NA | NA | NA | NA | -7 | 0 | NA | NA |\n",
       "|  5 | 5 | 2009-05-15 | AA | LAX | JFK | 2115 | 0535 | 2119 | 0533 | ⋯ |  0 | NA | NA | NA | NA | NA |  4 | 4 | NA | NA |\n",
       "|  7 | 4 | 2000-07-06 | AA | LAX | JFK | 2200 | 0622 | 2158 | 0610 | ⋯ |  0 | NA | NA | NA | NA | NA | -2 | 0 | NA | NA |\n",
       "\n"
      ],
      "text/plain": [
       "  Month DayOfWeek FlightDate Reporting_Airline Origin Dest CRSDepTime\n",
       "1 10    6         1996-10-19 AA                LAX    JFK  0700      \n",
       "2 10    3         2015-10-21 DL                LAX    JFK  2255      \n",
       "3  7    5         2012-07-06 UA                LAX    JFK  0605      \n",
       "4  1    3         2010-01-06 DL                LAX    JFK  2125      \n",
       "5  5    5         2009-05-15 AA                LAX    JFK  2115      \n",
       "6  7    4         2000-07-06 AA                LAX    JFK  2200      \n",
       "  CRSArrTime DepTime ArrTime ⋯ ArrDelayMinutes CarrierDelay WeatherDelay\n",
       "1 1509       0700    1610    ⋯ 61              NA           NA          \n",
       "2 0720       2254    0723    ⋯  3              NA           NA          \n",
       "3 1422       0600    1427    ⋯  5              NA           NA          \n",
       "4 0543       2118    0540    ⋯  0              NA           NA          \n",
       "5 0535       2119    0533    ⋯  0              NA           NA          \n",
       "6 0622       2158    0610    ⋯  0              NA           NA          \n",
       "  NASDelay SecurityDelay LateAircraftDelay DepDelay DepDelayMinutes DivDistance\n",
       "1 NA       NA            NA                 0       0               NA         \n",
       "2 NA       NA            NA                -1       0               NA         \n",
       "3 NA       NA            NA                -5       0               NA         \n",
       "4 NA       NA            NA                -7       0               NA         \n",
       "5 NA       NA            NA                 4       4               NA         \n",
       "6 NA       NA            NA                -2       0               NA         \n",
       "  DivArrDelay\n",
       "1 NA         \n",
       "2 NA         \n",
       "3 NA         \n",
       "4 NA         \n",
       "5 NA         \n",
       "6 NA         "
      ]
     },
     "metadata": {},
     "output_type": "display_data"
    }
   ],
   "source": [
    "# show the last 6 rows\n",
    "tail(sub_airline)"
   ]
  },
  {
   "cell_type": "markdown",
   "metadata": {},
   "source": [
    "<div class=\"alert alert-danger alertdanger\" style=\"margin-top: 20px\">\n",
    "<h1> Question #1: </h1>\n",
    "<b>Check the last 10 rows of data frame \"sub_airline\".</b>\n",
    "</div>\n"
   ]
  },
  {
   "cell_type": "code",
   "execution_count": 8,
   "metadata": {},
   "outputs": [
    {
     "data": {
      "text/html": [
       "<table>\n",
       "<caption>A tibble: 10 × 21</caption>\n",
       "<thead>\n",
       "\t<tr><th scope=col>Month</th><th scope=col>DayOfWeek</th><th scope=col>FlightDate</th><th scope=col>Reporting_Airline</th><th scope=col>Origin</th><th scope=col>Dest</th><th scope=col>CRSDepTime</th><th scope=col>CRSArrTime</th><th scope=col>DepTime</th><th scope=col>ArrTime</th><th scope=col>⋯</th><th scope=col>ArrDelayMinutes</th><th scope=col>CarrierDelay</th><th scope=col>WeatherDelay</th><th scope=col>NASDelay</th><th scope=col>SecurityDelay</th><th scope=col>LateAircraftDelay</th><th scope=col>DepDelay</th><th scope=col>DepDelayMinutes</th><th scope=col>DivDistance</th><th scope=col>DivArrDelay</th></tr>\n",
       "\t<tr><th scope=col>&lt;dbl&gt;</th><th scope=col>&lt;dbl&gt;</th><th scope=col>&lt;date&gt;</th><th scope=col>&lt;chr&gt;</th><th scope=col>&lt;chr&gt;</th><th scope=col>&lt;chr&gt;</th><th scope=col>&lt;chr&gt;</th><th scope=col>&lt;chr&gt;</th><th scope=col>&lt;chr&gt;</th><th scope=col>&lt;chr&gt;</th><th scope=col>⋯</th><th scope=col>&lt;dbl&gt;</th><th scope=col>&lt;dbl&gt;</th><th scope=col>&lt;dbl&gt;</th><th scope=col>&lt;dbl&gt;</th><th scope=col>&lt;dbl&gt;</th><th scope=col>&lt;dbl&gt;</th><th scope=col>&lt;dbl&gt;</th><th scope=col>&lt;dbl&gt;</th><th scope=col>&lt;dbl&gt;</th><th scope=col>&lt;dbl&gt;</th></tr>\n",
       "</thead>\n",
       "<tbody>\n",
       "\t<tr><td> 5</td><td>6</td><td>1988-05-14</td><td>AA</td><td>LAX</td><td>JFK</td><td>0830</td><td>1710</td><td>0829</td><td>1646</td><td>⋯</td><td> 0</td><td>NA</td><td>NA</td><td>NA</td><td>NA</td><td>NA</td><td>-1</td><td>0</td><td>NA</td><td>NA</td></tr>\n",
       "\t<tr><td> 1</td><td>7</td><td>1994-01-02</td><td>UA</td><td>LAX</td><td>JFK</td><td>0730</td><td>1548</td><td>0732</td><td>1549</td><td>⋯</td><td> 1</td><td>NA</td><td>NA</td><td>NA</td><td>NA</td><td>NA</td><td> 2</td><td>2</td><td>NA</td><td>NA</td></tr>\n",
       "\t<tr><td> 4</td><td>1</td><td>2000-04-17</td><td>UA</td><td>LAX</td><td>JFK</td><td>0900</td><td>1721</td><td>0859</td><td>1705</td><td>⋯</td><td> 0</td><td>NA</td><td>NA</td><td>NA</td><td>NA</td><td>NA</td><td>-1</td><td>0</td><td>NA</td><td>NA</td></tr>\n",
       "\t<tr><td> 6</td><td>7</td><td>2003-06-08</td><td>DL</td><td>LAX</td><td>JFK</td><td>1230</td><td>2052</td><td>1228</td><td>2052</td><td>⋯</td><td> 0</td><td>NA</td><td>NA</td><td>NA</td><td>NA</td><td>NA</td><td>-2</td><td>0</td><td>NA</td><td>NA</td></tr>\n",
       "\t<tr><td>10</td><td>6</td><td>1996-10-19</td><td>AA</td><td>LAX</td><td>JFK</td><td>0700</td><td>1509</td><td>0700</td><td>1610</td><td>⋯</td><td>61</td><td>NA</td><td>NA</td><td>NA</td><td>NA</td><td>NA</td><td> 0</td><td>0</td><td>NA</td><td>NA</td></tr>\n",
       "\t<tr><td>10</td><td>3</td><td>2015-10-21</td><td>DL</td><td>LAX</td><td>JFK</td><td>2255</td><td>0720</td><td>2254</td><td>0723</td><td>⋯</td><td> 3</td><td>NA</td><td>NA</td><td>NA</td><td>NA</td><td>NA</td><td>-1</td><td>0</td><td>NA</td><td>NA</td></tr>\n",
       "\t<tr><td> 7</td><td>5</td><td>2012-07-06</td><td>UA</td><td>LAX</td><td>JFK</td><td>0605</td><td>1422</td><td>0600</td><td>1427</td><td>⋯</td><td> 5</td><td>NA</td><td>NA</td><td>NA</td><td>NA</td><td>NA</td><td>-5</td><td>0</td><td>NA</td><td>NA</td></tr>\n",
       "\t<tr><td> 1</td><td>3</td><td>2010-01-06</td><td>DL</td><td>LAX</td><td>JFK</td><td>2125</td><td>0543</td><td>2118</td><td>0540</td><td>⋯</td><td> 0</td><td>NA</td><td>NA</td><td>NA</td><td>NA</td><td>NA</td><td>-7</td><td>0</td><td>NA</td><td>NA</td></tr>\n",
       "\t<tr><td> 5</td><td>5</td><td>2009-05-15</td><td>AA</td><td>LAX</td><td>JFK</td><td>2115</td><td>0535</td><td>2119</td><td>0533</td><td>⋯</td><td> 0</td><td>NA</td><td>NA</td><td>NA</td><td>NA</td><td>NA</td><td> 4</td><td>4</td><td>NA</td><td>NA</td></tr>\n",
       "\t<tr><td> 7</td><td>4</td><td>2000-07-06</td><td>AA</td><td>LAX</td><td>JFK</td><td>2200</td><td>0622</td><td>2158</td><td>0610</td><td>⋯</td><td> 0</td><td>NA</td><td>NA</td><td>NA</td><td>NA</td><td>NA</td><td>-2</td><td>0</td><td>NA</td><td>NA</td></tr>\n",
       "</tbody>\n",
       "</table>\n"
      ],
      "text/latex": [
       "A tibble: 10 × 21\n",
       "\\begin{tabular}{lllllllllllllllllllll}\n",
       " Month & DayOfWeek & FlightDate & Reporting\\_Airline & Origin & Dest & CRSDepTime & CRSArrTime & DepTime & ArrTime & ⋯ & ArrDelayMinutes & CarrierDelay & WeatherDelay & NASDelay & SecurityDelay & LateAircraftDelay & DepDelay & DepDelayMinutes & DivDistance & DivArrDelay\\\\\n",
       " <dbl> & <dbl> & <date> & <chr> & <chr> & <chr> & <chr> & <chr> & <chr> & <chr> & ⋯ & <dbl> & <dbl> & <dbl> & <dbl> & <dbl> & <dbl> & <dbl> & <dbl> & <dbl> & <dbl>\\\\\n",
       "\\hline\n",
       "\t  5 & 6 & 1988-05-14 & AA & LAX & JFK & 0830 & 1710 & 0829 & 1646 & ⋯ &  0 & NA & NA & NA & NA & NA & -1 & 0 & NA & NA\\\\\n",
       "\t  1 & 7 & 1994-01-02 & UA & LAX & JFK & 0730 & 1548 & 0732 & 1549 & ⋯ &  1 & NA & NA & NA & NA & NA &  2 & 2 & NA & NA\\\\\n",
       "\t  4 & 1 & 2000-04-17 & UA & LAX & JFK & 0900 & 1721 & 0859 & 1705 & ⋯ &  0 & NA & NA & NA & NA & NA & -1 & 0 & NA & NA\\\\\n",
       "\t  6 & 7 & 2003-06-08 & DL & LAX & JFK & 1230 & 2052 & 1228 & 2052 & ⋯ &  0 & NA & NA & NA & NA & NA & -2 & 0 & NA & NA\\\\\n",
       "\t 10 & 6 & 1996-10-19 & AA & LAX & JFK & 0700 & 1509 & 0700 & 1610 & ⋯ & 61 & NA & NA & NA & NA & NA &  0 & 0 & NA & NA\\\\\n",
       "\t 10 & 3 & 2015-10-21 & DL & LAX & JFK & 2255 & 0720 & 2254 & 0723 & ⋯ &  3 & NA & NA & NA & NA & NA & -1 & 0 & NA & NA\\\\\n",
       "\t  7 & 5 & 2012-07-06 & UA & LAX & JFK & 0605 & 1422 & 0600 & 1427 & ⋯ &  5 & NA & NA & NA & NA & NA & -5 & 0 & NA & NA\\\\\n",
       "\t  1 & 3 & 2010-01-06 & DL & LAX & JFK & 2125 & 0543 & 2118 & 0540 & ⋯ &  0 & NA & NA & NA & NA & NA & -7 & 0 & NA & NA\\\\\n",
       "\t  5 & 5 & 2009-05-15 & AA & LAX & JFK & 2115 & 0535 & 2119 & 0533 & ⋯ &  0 & NA & NA & NA & NA & NA &  4 & 4 & NA & NA\\\\\n",
       "\t  7 & 4 & 2000-07-06 & AA & LAX & JFK & 2200 & 0622 & 2158 & 0610 & ⋯ &  0 & NA & NA & NA & NA & NA & -2 & 0 & NA & NA\\\\\n",
       "\\end{tabular}\n"
      ],
      "text/markdown": [
       "\n",
       "A tibble: 10 × 21\n",
       "\n",
       "| Month &lt;dbl&gt; | DayOfWeek &lt;dbl&gt; | FlightDate &lt;date&gt; | Reporting_Airline &lt;chr&gt; | Origin &lt;chr&gt; | Dest &lt;chr&gt; | CRSDepTime &lt;chr&gt; | CRSArrTime &lt;chr&gt; | DepTime &lt;chr&gt; | ArrTime &lt;chr&gt; | ⋯ ⋯ | ArrDelayMinutes &lt;dbl&gt; | CarrierDelay &lt;dbl&gt; | WeatherDelay &lt;dbl&gt; | NASDelay &lt;dbl&gt; | SecurityDelay &lt;dbl&gt; | LateAircraftDelay &lt;dbl&gt; | DepDelay &lt;dbl&gt; | DepDelayMinutes &lt;dbl&gt; | DivDistance &lt;dbl&gt; | DivArrDelay &lt;dbl&gt; |\n",
       "|---|---|---|---|---|---|---|---|---|---|---|---|---|---|---|---|---|---|---|---|---|\n",
       "|  5 | 6 | 1988-05-14 | AA | LAX | JFK | 0830 | 1710 | 0829 | 1646 | ⋯ |  0 | NA | NA | NA | NA | NA | -1 | 0 | NA | NA |\n",
       "|  1 | 7 | 1994-01-02 | UA | LAX | JFK | 0730 | 1548 | 0732 | 1549 | ⋯ |  1 | NA | NA | NA | NA | NA |  2 | 2 | NA | NA |\n",
       "|  4 | 1 | 2000-04-17 | UA | LAX | JFK | 0900 | 1721 | 0859 | 1705 | ⋯ |  0 | NA | NA | NA | NA | NA | -1 | 0 | NA | NA |\n",
       "|  6 | 7 | 2003-06-08 | DL | LAX | JFK | 1230 | 2052 | 1228 | 2052 | ⋯ |  0 | NA | NA | NA | NA | NA | -2 | 0 | NA | NA |\n",
       "| 10 | 6 | 1996-10-19 | AA | LAX | JFK | 0700 | 1509 | 0700 | 1610 | ⋯ | 61 | NA | NA | NA | NA | NA |  0 | 0 | NA | NA |\n",
       "| 10 | 3 | 2015-10-21 | DL | LAX | JFK | 2255 | 0720 | 2254 | 0723 | ⋯ |  3 | NA | NA | NA | NA | NA | -1 | 0 | NA | NA |\n",
       "|  7 | 5 | 2012-07-06 | UA | LAX | JFK | 0605 | 1422 | 0600 | 1427 | ⋯ |  5 | NA | NA | NA | NA | NA | -5 | 0 | NA | NA |\n",
       "|  1 | 3 | 2010-01-06 | DL | LAX | JFK | 2125 | 0543 | 2118 | 0540 | ⋯ |  0 | NA | NA | NA | NA | NA | -7 | 0 | NA | NA |\n",
       "|  5 | 5 | 2009-05-15 | AA | LAX | JFK | 2115 | 0535 | 2119 | 0533 | ⋯ |  0 | NA | NA | NA | NA | NA |  4 | 4 | NA | NA |\n",
       "|  7 | 4 | 2000-07-06 | AA | LAX | JFK | 2200 | 0622 | 2158 | 0610 | ⋯ |  0 | NA | NA | NA | NA | NA | -2 | 0 | NA | NA |\n",
       "\n"
      ],
      "text/plain": [
       "   Month DayOfWeek FlightDate Reporting_Airline Origin Dest CRSDepTime\n",
       "1   5    6         1988-05-14 AA                LAX    JFK  0830      \n",
       "2   1    7         1994-01-02 UA                LAX    JFK  0730      \n",
       "3   4    1         2000-04-17 UA                LAX    JFK  0900      \n",
       "4   6    7         2003-06-08 DL                LAX    JFK  1230      \n",
       "5  10    6         1996-10-19 AA                LAX    JFK  0700      \n",
       "6  10    3         2015-10-21 DL                LAX    JFK  2255      \n",
       "7   7    5         2012-07-06 UA                LAX    JFK  0605      \n",
       "8   1    3         2010-01-06 DL                LAX    JFK  2125      \n",
       "9   5    5         2009-05-15 AA                LAX    JFK  2115      \n",
       "10  7    4         2000-07-06 AA                LAX    JFK  2200      \n",
       "   CRSArrTime DepTime ArrTime ⋯ ArrDelayMinutes CarrierDelay WeatherDelay\n",
       "1  1710       0829    1646    ⋯  0              NA           NA          \n",
       "2  1548       0732    1549    ⋯  1              NA           NA          \n",
       "3  1721       0859    1705    ⋯  0              NA           NA          \n",
       "4  2052       1228    2052    ⋯  0              NA           NA          \n",
       "5  1509       0700    1610    ⋯ 61              NA           NA          \n",
       "6  0720       2254    0723    ⋯  3              NA           NA          \n",
       "7  1422       0600    1427    ⋯  5              NA           NA          \n",
       "8  0543       2118    0540    ⋯  0              NA           NA          \n",
       "9  0535       2119    0533    ⋯  0              NA           NA          \n",
       "10 0622       2158    0610    ⋯  0              NA           NA          \n",
       "   NASDelay SecurityDelay LateAircraftDelay DepDelay DepDelayMinutes\n",
       "1  NA       NA            NA                -1       0              \n",
       "2  NA       NA            NA                 2       2              \n",
       "3  NA       NA            NA                -1       0              \n",
       "4  NA       NA            NA                -2       0              \n",
       "5  NA       NA            NA                 0       0              \n",
       "6  NA       NA            NA                -1       0              \n",
       "7  NA       NA            NA                -5       0              \n",
       "8  NA       NA            NA                -7       0              \n",
       "9  NA       NA            NA                 4       4              \n",
       "10 NA       NA            NA                -2       0              \n",
       "   DivDistance DivArrDelay\n",
       "1  NA          NA         \n",
       "2  NA          NA         \n",
       "3  NA          NA         \n",
       "4  NA          NA         \n",
       "5  NA          NA         \n",
       "6  NA          NA         \n",
       "7  NA          NA         \n",
       "8  NA          NA         \n",
       "9  NA          NA         \n",
       "10 NA          NA         "
      ]
     },
     "metadata": {},
     "output_type": "display_data"
    }
   ],
   "source": [
    "# Write your code below and press Shift+Enter to execute \n",
    "tail(sub_airline,10)"
   ]
  },
  {
   "cell_type": "markdown",
   "metadata": {},
   "source": [
    "## Preprocess Data\n",
    "\n",
    "Throughout this course, we are going to be focusing on flights from  LAX to JFK and predict the possibility of Amy's flight delays. So we also exclude flights that got cancelled or diverted. The previous example uses the final subset dataset `sub_airline`. However, there was some preprocessing done on the original dataset to get there. You can find the full dataset here: [https://developer.ibm.com/technologies/artificial-intelligence/data/airline/](https://developer.ibm.com/technologies/artificial-intelligence/data/airline/?utm_medium=Exinfluencer&utm_source=Exinfluencer&utm_content=000026UJ&utm_term=10006555&utm_id=NA-SkillsNetwork-Channel-SkillsNetworkCoursesIBMDA0151ENSkillsNetwork21582452-2021-01-01).\n",
    "\n",
    "From this original dataset, we will show you how we got the `sub_airline` dataset. After downloading the original data with `download.file()` and reading the file with `read_csv()`:\n",
    "\n",
    "1.  Firstly, we use `dplyr::filter()` to filter out all flights from `LAX` to `JFK`, and filter out the cancelled and diverted flights.\n",
    "2.  Then, we use `dplyr::select()` to select the columns by a pre-determined headers list. The original dataset contains more than 100 columns, so we are only going to use a few of the columns such as `Month`, `DaysOfWeek`, `FlightDate`, `Reporting_Airline`, and so on.\n",
    "\n",
    "The below code is to show you how to subset a big dataset. The code is here for your reference. Feel free to play around with it and modify the columns. Remember **not** to run the below code in Skills Network Labs. The data size too big and it is better run to run locally so that Skills Network Labs does not freeze or lag.\n"
   ]
  },
  {
   "cell_type": "markdown",
   "metadata": {},
   "source": [
    "Print and recheck our subset airline data using `dim()` on `sub_airline`.\n"
   ]
  },
  {
   "cell_type": "markdown",
   "metadata": {},
   "source": [
    "This subset dataframe should include 2855 rows and 21 columns.\n"
   ]
  },
  {
   "cell_type": "code",
   "execution_count": 22,
   "metadata": {},
   "outputs": [
    {
     "data": {
      "text/html": [
       "<style>\n",
       ".list-inline {list-style: none; margin:0; padding: 0}\n",
       ".list-inline>li {display: inline-block}\n",
       ".list-inline>li:not(:last-child)::after {content: \"\\00b7\"; padding: 0 .5ex}\n",
       "</style>\n",
       "<ol class=list-inline><li>2855</li><li>21</li></ol>\n"
      ],
      "text/latex": [
       "\\begin{enumerate*}\n",
       "\\item 2855\n",
       "\\item 21\n",
       "\\end{enumerate*}\n"
      ],
      "text/markdown": [
       "1. 2855\n",
       "2. 21\n",
       "\n",
       "\n"
      ],
      "text/plain": [
       "[1] 2855   21"
      ]
     },
     "metadata": {},
     "output_type": "display_data"
    }
   ],
   "source": [
    "# Check dimensions of the dataset\n",
    "dim(sub_airline)"
   ]
  },
  {
   "cell_type": "markdown",
   "metadata": {},
   "source": [
    " <div class=\"alert alert-danger alertdanger\" style=\"margin-top: 20px\">\n",
    "<h1> Question #2: </h1>\n",
    "<b>Find the name of the columns of the dataframe</b>\n",
    "</div>\n"
   ]
  },
  {
   "cell_type": "code",
   "execution_count": 21,
   "metadata": {},
   "outputs": [
    {
     "data": {
      "text/html": [
       "<style>\n",
       ".list-inline {list-style: none; margin:0; padding: 0}\n",
       ".list-inline>li {display: inline-block}\n",
       ".list-inline>li:not(:last-child)::after {content: \"\\00b7\"; padding: 0 .5ex}\n",
       "</style>\n",
       "<ol class=list-inline><li>'Month'</li><li>'DayOfWeek'</li><li>'FlightDate'</li><li>'Reporting_Airline'</li><li>'Origin'</li><li>'Dest'</li><li>'CRSDepTime'</li><li>'CRSArrTime'</li><li>'DepTime'</li><li>'ArrTime'</li><li>'ArrDelay'</li><li>'ArrDelayMinutes'</li><li>'CarrierDelay'</li><li>'WeatherDelay'</li><li>'NASDelay'</li><li>'SecurityDelay'</li><li>'LateAircraftDelay'</li><li>'DepDelay'</li><li>'DepDelayMinutes'</li><li>'DivDistance'</li><li>'DivArrDelay'</li></ol>\n"
      ],
      "text/latex": [
       "\\begin{enumerate*}\n",
       "\\item 'Month'\n",
       "\\item 'DayOfWeek'\n",
       "\\item 'FlightDate'\n",
       "\\item 'Reporting\\_Airline'\n",
       "\\item 'Origin'\n",
       "\\item 'Dest'\n",
       "\\item 'CRSDepTime'\n",
       "\\item 'CRSArrTime'\n",
       "\\item 'DepTime'\n",
       "\\item 'ArrTime'\n",
       "\\item 'ArrDelay'\n",
       "\\item 'ArrDelayMinutes'\n",
       "\\item 'CarrierDelay'\n",
       "\\item 'WeatherDelay'\n",
       "\\item 'NASDelay'\n",
       "\\item 'SecurityDelay'\n",
       "\\item 'LateAircraftDelay'\n",
       "\\item 'DepDelay'\n",
       "\\item 'DepDelayMinutes'\n",
       "\\item 'DivDistance'\n",
       "\\item 'DivArrDelay'\n",
       "\\end{enumerate*}\n"
      ],
      "text/markdown": [
       "1. 'Month'\n",
       "2. 'DayOfWeek'\n",
       "3. 'FlightDate'\n",
       "4. 'Reporting_Airline'\n",
       "5. 'Origin'\n",
       "6. 'Dest'\n",
       "7. 'CRSDepTime'\n",
       "8. 'CRSArrTime'\n",
       "9. 'DepTime'\n",
       "10. 'ArrTime'\n",
       "11. 'ArrDelay'\n",
       "12. 'ArrDelayMinutes'\n",
       "13. 'CarrierDelay'\n",
       "14. 'WeatherDelay'\n",
       "15. 'NASDelay'\n",
       "16. 'SecurityDelay'\n",
       "17. 'LateAircraftDelay'\n",
       "18. 'DepDelay'\n",
       "19. 'DepDelayMinutes'\n",
       "20. 'DivDistance'\n",
       "21. 'DivArrDelay'\n",
       "\n",
       "\n"
      ],
      "text/plain": [
       " [1] \"Month\"             \"DayOfWeek\"         \"FlightDate\"       \n",
       " [4] \"Reporting_Airline\" \"Origin\"            \"Dest\"             \n",
       " [7] \"CRSDepTime\"        \"CRSArrTime\"        \"DepTime\"          \n",
       "[10] \"ArrTime\"           \"ArrDelay\"          \"ArrDelayMinutes\"  \n",
       "[13] \"CarrierDelay\"      \"WeatherDelay\"      \"NASDelay\"         \n",
       "[16] \"SecurityDelay\"     \"LateAircraftDelay\" \"DepDelay\"         \n",
       "[19] \"DepDelayMinutes\"   \"DivDistance\"       \"DivArrDelay\"      "
      ]
     },
     "metadata": {},
     "output_type": "display_data"
    }
   ],
   "source": [
    "# Write your code below and press Shift+Enter to execute \n",
    "colnames(sub_airline)"
   ]
  },
  {
   "cell_type": "markdown",
   "metadata": {
    "tags": []
   },
   "source": [
    "<h2>Read/Save Other Data Formats</h2>\n",
    "\n",
    "We can also read and save other file formats, we can use similar functions to **`read_csv()`** and **`write_csv()`** for other data formats, the functions are listed in the following table:\n"
   ]
  },
  {
   "cell_type": "markdown",
   "metadata": {},
   "source": [
    "| Data Format |      Read      |            Save |\n",
    "| ----------- | :------------: | --------------: |\n",
    "| csv         |  `read_csv()`  |   `write_csv()` |\n",
    "| tsv         |  `read_tsv()`  |   `write_tsv()` |\n",
    "| delimiter   | `read_delim()` | `write_delim()` |\n",
    "| ...         |       ...      |             ... |\n",
    "\n",
    "You can find more functions from the \"readr\" documentation [here](https://readr.tidyverse.org/?utm_medium=Exinfluencer&utm_source=Exinfluencer&utm_content=000026UJ&utm_term=10006555&utm_id=NA-SkillsNetwork-Channel-SkillsNetworkCoursesIBMDA0151ENSkillsNetwork21582452-2021-01-01).\n"
   ]
  },
  {
   "cell_type": "code",
   "execution_count": 28,
   "metadata": {
    "tags": []
   },
   "outputs": [],
   "source": [
    "write_csv(sub_airline, \"lax_to_jfk.csv\")"
   ]
  },
  {
   "cell_type": "markdown",
   "metadata": {},
   "source": [
    "<a id=\"cell2\"></a>\n",
    "\n",
    "<h1 id=\"basic_insight\">2. Basic Insights of the Dataset</h1>\n",
    "<p>\n",
    "After reading data into a dataframe, it is time for us to explore the dataset a little more.<br>\n",
    "There are several ways to obtain essential insights of the data to help us better understand our dataset.\n",
    "</p>\n"
   ]
  },
  {
   "cell_type": "markdown",
   "metadata": {},
   "source": [
    "## Data Types\n",
    "\n",
    "Data has a variety of types.\n",
    "\n",
    "The main types stored in R are: `numeric`, `integer`, `complex`, `logical`, `character`. In order to better learn about each attribute, it is always good for us to know the data type of each column.\n",
    "\n",
    "Let's check by using `sapply()` to apply  `typeof` to every column in the dataframe `sub_airline`:\n"
   ]
  },
  {
   "cell_type": "code",
   "execution_count": 11,
   "metadata": {},
   "outputs": [
    {
     "data": {
      "text/html": [
       "<style>\n",
       ".dl-inline {width: auto; margin:0; padding: 0}\n",
       ".dl-inline>dt, .dl-inline>dd {float: none; width: auto; display: inline-block}\n",
       ".dl-inline>dt::after {content: \":\\0020\"; padding-right: .5ex}\n",
       ".dl-inline>dt:not(:first-of-type) {padding-left: .5ex}\n",
       "</style><dl class=dl-inline><dt>Month</dt><dd>'double'</dd><dt>DayOfWeek</dt><dd>'double'</dd><dt>FlightDate</dt><dd>'double'</dd><dt>Reporting_Airline</dt><dd>'character'</dd><dt>Origin</dt><dd>'character'</dd><dt>Dest</dt><dd>'character'</dd><dt>CRSDepTime</dt><dd>'character'</dd><dt>CRSArrTime</dt><dd>'character'</dd><dt>DepTime</dt><dd>'character'</dd><dt>ArrTime</dt><dd>'character'</dd><dt>ArrDelay</dt><dd>'double'</dd><dt>ArrDelayMinutes</dt><dd>'double'</dd><dt>CarrierDelay</dt><dd>'double'</dd><dt>WeatherDelay</dt><dd>'double'</dd><dt>NASDelay</dt><dd>'double'</dd><dt>SecurityDelay</dt><dd>'double'</dd><dt>LateAircraftDelay</dt><dd>'double'</dd><dt>DepDelay</dt><dd>'double'</dd><dt>DepDelayMinutes</dt><dd>'double'</dd><dt>DivDistance</dt><dd>'double'</dd><dt>DivArrDelay</dt><dd>'double'</dd></dl>\n"
      ],
      "text/latex": [
       "\\begin{description*}\n",
       "\\item[Month] 'double'\n",
       "\\item[DayOfWeek] 'double'\n",
       "\\item[FlightDate] 'double'\n",
       "\\item[Reporting\\textbackslash{}\\_Airline] 'character'\n",
       "\\item[Origin] 'character'\n",
       "\\item[Dest] 'character'\n",
       "\\item[CRSDepTime] 'character'\n",
       "\\item[CRSArrTime] 'character'\n",
       "\\item[DepTime] 'character'\n",
       "\\item[ArrTime] 'character'\n",
       "\\item[ArrDelay] 'double'\n",
       "\\item[ArrDelayMinutes] 'double'\n",
       "\\item[CarrierDelay] 'double'\n",
       "\\item[WeatherDelay] 'double'\n",
       "\\item[NASDelay] 'double'\n",
       "\\item[SecurityDelay] 'double'\n",
       "\\item[LateAircraftDelay] 'double'\n",
       "\\item[DepDelay] 'double'\n",
       "\\item[DepDelayMinutes] 'double'\n",
       "\\item[DivDistance] 'double'\n",
       "\\item[DivArrDelay] 'double'\n",
       "\\end{description*}\n"
      ],
      "text/markdown": [
       "Month\n",
       ":   'double'DayOfWeek\n",
       ":   'double'FlightDate\n",
       ":   'double'Reporting_Airline\n",
       ":   'character'Origin\n",
       ":   'character'Dest\n",
       ":   'character'CRSDepTime\n",
       ":   'character'CRSArrTime\n",
       ":   'character'DepTime\n",
       ":   'character'ArrTime\n",
       ":   'character'ArrDelay\n",
       ":   'double'ArrDelayMinutes\n",
       ":   'double'CarrierDelay\n",
       ":   'double'WeatherDelay\n",
       ":   'double'NASDelay\n",
       ":   'double'SecurityDelay\n",
       ":   'double'LateAircraftDelay\n",
       ":   'double'DepDelay\n",
       ":   'double'DepDelayMinutes\n",
       ":   'double'DivDistance\n",
       ":   'double'DivArrDelay\n",
       ":   'double'\n",
       "\n"
      ],
      "text/plain": [
       "            Month         DayOfWeek        FlightDate Reporting_Airline \n",
       "         \"double\"          \"double\"          \"double\"       \"character\" \n",
       "           Origin              Dest        CRSDepTime        CRSArrTime \n",
       "      \"character\"       \"character\"       \"character\"       \"character\" \n",
       "          DepTime           ArrTime          ArrDelay   ArrDelayMinutes \n",
       "      \"character\"       \"character\"          \"double\"          \"double\" \n",
       "     CarrierDelay      WeatherDelay          NASDelay     SecurityDelay \n",
       "         \"double\"          \"double\"          \"double\"          \"double\" \n",
       "LateAircraftDelay          DepDelay   DepDelayMinutes       DivDistance \n",
       "         \"double\"          \"double\"          \"double\"          \"double\" \n",
       "      DivArrDelay \n",
       "         \"double\" "
      ]
     },
     "metadata": {},
     "output_type": "display_data"
    }
   ],
   "source": [
    "sapply(sub_airline, typeof) "
   ]
  },
  {
   "cell_type": "markdown",
   "metadata": {},
   "source": [
    "**Numeric and Integer Types**\n",
    "\n",
    "Decimal values are called `numeric` in R. It is the default computational data type. If we assign a decimal value to a variable x as follows, x will be of numeric type.\n"
   ]
  },
  {
   "cell_type": "code",
   "execution_count": 12,
   "metadata": {},
   "outputs": [
    {
     "data": {
      "text/html": [
       "'numeric'"
      ],
      "text/latex": [
       "'numeric'"
      ],
      "text/markdown": [
       "'numeric'"
      ],
      "text/plain": [
       "[1] \"numeric\""
      ]
     },
     "metadata": {},
     "output_type": "display_data"
    }
   ],
   "source": [
    "x = 10.5       # assign a decimal value \n",
    "class(x)       # print the class name of x, which should be numeric"
   ]
  },
  {
   "cell_type": "markdown",
   "metadata": {},
   "source": [
    "Furthermore, even if we assign an integer to a variable k, it is still being saved as a numeric value.\n"
   ]
  },
  {
   "cell_type": "code",
   "execution_count": 13,
   "metadata": {},
   "outputs": [
    {
     "data": {
      "text/html": [
       "'numeric'"
      ],
      "text/latex": [
       "'numeric'"
      ],
      "text/markdown": [
       "'numeric'"
      ],
      "text/plain": [
       "[1] \"numeric\""
      ]
     },
     "metadata": {},
     "output_type": "display_data"
    }
   ],
   "source": [
    "k = 1          # assign an integer value \n",
    "class(x)       # print the class name of x, which should be numeric"
   ]
  },
  {
   "cell_type": "markdown",
   "metadata": {},
   "source": [
    "In order to create an integer variable in R, we invoke the integer function. We can be assured that y is indeed an integer by applying the is.integer function.\n"
   ]
  },
  {
   "cell_type": "code",
   "execution_count": 14,
   "metadata": {},
   "outputs": [
    {
     "data": {
      "text/html": [
       "'integer'"
      ],
      "text/latex": [
       "'integer'"
      ],
      "text/markdown": [
       "'integer'"
      ],
      "text/plain": [
       "[1] \"integer\""
      ]
     },
     "metadata": {},
     "output_type": "display_data"
    }
   ],
   "source": [
    "y = as.integer(3)        # assign a integer value \n",
    "class(y)                 # print the class name of y, which should be integer"
   ]
  },
  {
   "cell_type": "markdown",
   "metadata": {},
   "source": [
    "**Complex Type**\n",
    "\n",
    "A complex value in R is defined via the pure imaginary value $i$ (`0i` in R).\n"
   ]
  },
  {
   "cell_type": "code",
   "execution_count": 15,
   "metadata": {},
   "outputs": [
    {
     "data": {
      "text/html": [
       "'complex'"
      ],
      "text/latex": [
       "'complex'"
      ],
      "text/markdown": [
       "'complex'"
      ],
      "text/plain": [
       "[1] \"complex\""
      ]
     },
     "metadata": {},
     "output_type": "display_data"
    }
   ],
   "source": [
    "z = 0i\n",
    "class(z)"
   ]
  },
  {
   "cell_type": "markdown",
   "metadata": {},
   "source": [
    "**Logical Type**\n",
    "\n",
    "A logical value is often created via comparison between variables, such as True, False.\n"
   ]
  },
  {
   "cell_type": "code",
   "execution_count": 16,
   "metadata": {},
   "outputs": [
    {
     "data": {
      "text/html": [
       "'logical'"
      ],
      "text/latex": [
       "'logical'"
      ],
      "text/markdown": [
       "'logical'"
      ],
      "text/plain": [
       "[1] \"logical\""
      ]
     },
     "metadata": {},
     "output_type": "display_data"
    }
   ],
   "source": [
    "logical_values = c(TRUE, T, FALSE, F)\n",
    "class(logical_values)"
   ]
  },
  {
   "cell_type": "markdown",
   "metadata": {},
   "source": [
    "**Character Type**\n",
    "\n",
    "A character object is used to represent string values in R.\n"
   ]
  },
  {
   "cell_type": "code",
   "execution_count": 17,
   "metadata": {},
   "outputs": [
    {
     "data": {
      "text/html": [
       "'character'"
      ],
      "text/latex": [
       "'character'"
      ],
      "text/markdown": [
       "'character'"
      ],
      "text/plain": [
       "[1] \"character\""
      ]
     },
     "metadata": {},
     "output_type": "display_data"
    }
   ],
   "source": [
    "class('this is a character')"
   ]
  },
  {
   "cell_type": "markdown",
   "metadata": {},
   "source": [
    "## Dplyr for Data Wrangling and Transformation\n",
    "\n",
    "The dplyr package is very useful to transform data and get basic insights from the dataset. The most important functions are:\n",
    "\n",
    "*   `select()`\n",
    "*   `filter()`\n",
    "*   `summarize()`\n",
    "*   `arrange()`\n",
    "*   `mutate()`\n",
    "*   `group_by()`\n"
   ]
  },
  {
   "cell_type": "markdown",
   "metadata": {},
   "source": [
    "### Pipe\n",
    "\n",
    "Before we dive deeper into using some of the functions of dyplr, we first introduce the **pipe** operator **`%>%`**. The pipe operator allows us to chain together dplyr data wrangling functions.\n",
    "\n",
    "An advantage of using pipe is that it replaces having messy nested functions that can be difficult to interpret like:\n"
   ]
  },
  {
   "cell_type": "raw",
   "metadata": {},
   "source": [
    "summarize(group_by(filter(sub_airline, Month == 1), Reporting_Airline), avg_carrier_delay = mean(CarrierDelay, na.rm = TRUE))"
   ]
  },
  {
   "cell_type": "markdown",
   "metadata": {},
   "source": [
    "The same code can be written using pipe and makes it much easier to understand:\n"
   ]
  },
  {
   "cell_type": "raw",
   "metadata": {},
   "source": [
    "sub_airline %>% \n",
    "  filter(Month == 1) %>%\n",
    "  group_by(Reporting_Airline) %>%\n",
    "  summarize(avg_carrier_delay = mean(CarrierDelay, na.rm = TRUE))"
   ]
  },
  {
   "cell_type": "markdown",
   "metadata": {},
   "source": [
    "When interpreting the above lines of code, the pipe operator can be read as “then”.\n",
    "The **`%>%`** operator allows us to go from one step in dplyr to the next easily, so the above example can clearily be interpreted as:\n",
    "\n",
    "*   **`filter`** our data frame for month 1 *then*\n",
    "*   **`group_by`** the reporting airline types *then*\n",
    "*   **`summarize`** the average `CarrierDelay` for each airline. The final output is the average `CarrierDelay` for each `Reporting_Airline` in month 1.\n"
   ]
  },
  {
   "cell_type": "markdown",
   "metadata": {},
   "source": [
    "### Summarize\n",
    "\n",
    "Now, let's go over some examples using basic dplyr functions with pipe.\n",
    "If we would like to get a statistical summary of a column, such as count, column mean value, column standard deviation, etc., we can use the `summarize()` method (can also use `summarise()`).\n"
   ]
  },
  {
   "cell_type": "markdown",
   "metadata": {},
   "source": [
    "This method will provide various summary statistics, excluding `NA` (Not Available) values.\n"
   ]
  },
  {
   "cell_type": "code",
   "execution_count": 29,
   "metadata": {},
   "outputs": [
    {
     "data": {
      "text/html": [
       "<table>\n",
       "<caption>A tibble: 9 × 2</caption>\n",
       "<thead>\n",
       "\t<tr><th scope=col>Reporting_Airline</th><th scope=col>avg_carrier_delay</th></tr>\n",
       "\t<tr><th scope=col>&lt;chr&gt;</th><th scope=col>&lt;dbl&gt;</th></tr>\n",
       "</thead>\n",
       "<tbody>\n",
       "\t<tr><td>AA    </td><td>19.643478</td></tr>\n",
       "\t<tr><td>AS    </td><td>14.833333</td></tr>\n",
       "\t<tr><td>B6    </td><td>11.466667</td></tr>\n",
       "\t<tr><td>DL    </td><td>24.912088</td></tr>\n",
       "\t<tr><td>HP    </td><td> 3.333333</td></tr>\n",
       "\t<tr><td>PA (1)</td><td>      NaN</td></tr>\n",
       "\t<tr><td>TW    </td><td>      NaN</td></tr>\n",
       "\t<tr><td>UA    </td><td>14.509804</td></tr>\n",
       "\t<tr><td>VX    </td><td>14.941176</td></tr>\n",
       "</tbody>\n",
       "</table>\n"
      ],
      "text/latex": [
       "A tibble: 9 × 2\n",
       "\\begin{tabular}{ll}\n",
       " Reporting\\_Airline & avg\\_carrier\\_delay\\\\\n",
       " <chr> & <dbl>\\\\\n",
       "\\hline\n",
       "\t AA     & 19.643478\\\\\n",
       "\t AS     & 14.833333\\\\\n",
       "\t B6     & 11.466667\\\\\n",
       "\t DL     & 24.912088\\\\\n",
       "\t HP     &  3.333333\\\\\n",
       "\t PA (1) &       NaN\\\\\n",
       "\t TW     &       NaN\\\\\n",
       "\t UA     & 14.509804\\\\\n",
       "\t VX     & 14.941176\\\\\n",
       "\\end{tabular}\n"
      ],
      "text/markdown": [
       "\n",
       "A tibble: 9 × 2\n",
       "\n",
       "| Reporting_Airline &lt;chr&gt; | avg_carrier_delay &lt;dbl&gt; |\n",
       "|---|---|\n",
       "| AA     | 19.643478 |\n",
       "| AS     | 14.833333 |\n",
       "| B6     | 11.466667 |\n",
       "| DL     | 24.912088 |\n",
       "| HP     |  3.333333 |\n",
       "| PA (1) |       NaN |\n",
       "| TW     |       NaN |\n",
       "| UA     | 14.509804 |\n",
       "| VX     | 14.941176 |\n",
       "\n"
      ],
      "text/plain": [
       "  Reporting_Airline avg_carrier_delay\n",
       "1 AA                19.643478        \n",
       "2 AS                14.833333        \n",
       "3 B6                11.466667        \n",
       "4 DL                24.912088        \n",
       "5 HP                 3.333333        \n",
       "6 PA (1)                  NaN        \n",
       "7 TW                      NaN        \n",
       "8 UA                14.509804        \n",
       "9 VX                14.941176        "
      ]
     },
     "metadata": {},
     "output_type": "display_data"
    }
   ],
   "source": [
    "# group_by / summarize workflow example\n",
    "sub_airline %>%\n",
    "  group_by(Reporting_Airline) %>%\n",
    "  summarize(avg_carrier_delay = mean(CarrierDelay, na.rm = TRUE)) # use mean value"
   ]
  },
  {
   "cell_type": "markdown",
   "metadata": {},
   "source": [
    "The statistical metrics can tell the data scientist if there are mathematical issues that may exist in a particular column, such as extreme outliers and large deviations. The data scientist may have to address these issues later. The above example used `mean()` to return the mean value of arrival delay, you may also use `sd` for standard deviation, `median`, etc.\n"
   ]
  },
  {
   "cell_type": "code",
   "execution_count": 19,
   "metadata": {},
   "outputs": [
    {
     "data": {
      "text/html": [
       "<table>\n",
       "<caption>A tibble: 9 × 2</caption>\n",
       "<thead>\n",
       "\t<tr><th scope=col>Reporting_Airline</th><th scope=col>sd_carrier_delay</th></tr>\n",
       "\t<tr><th scope=col>&lt;chr&gt;</th><th scope=col>&lt;dbl&gt;</th></tr>\n",
       "</thead>\n",
       "<tbody>\n",
       "\t<tr><td>AA    </td><td>36.047287</td></tr>\n",
       "\t<tr><td>AS    </td><td>19.039831</td></tr>\n",
       "\t<tr><td>B6    </td><td>29.040280</td></tr>\n",
       "\t<tr><td>DL    </td><td>99.775375</td></tr>\n",
       "\t<tr><td>HP    </td><td> 8.164966</td></tr>\n",
       "\t<tr><td>PA (1)</td><td>      NaN</td></tr>\n",
       "\t<tr><td>TW    </td><td>      NaN</td></tr>\n",
       "\t<tr><td>UA    </td><td>35.396821</td></tr>\n",
       "\t<tr><td>VX    </td><td>39.813917</td></tr>\n",
       "</tbody>\n",
       "</table>\n"
      ],
      "text/latex": [
       "A tibble: 9 × 2\n",
       "\\begin{tabular}{ll}\n",
       " Reporting\\_Airline & sd\\_carrier\\_delay\\\\\n",
       " <chr> & <dbl>\\\\\n",
       "\\hline\n",
       "\t AA     & 36.047287\\\\\n",
       "\t AS     & 19.039831\\\\\n",
       "\t B6     & 29.040280\\\\\n",
       "\t DL     & 99.775375\\\\\n",
       "\t HP     &  8.164966\\\\\n",
       "\t PA (1) &       NaN\\\\\n",
       "\t TW     &       NaN\\\\\n",
       "\t UA     & 35.396821\\\\\n",
       "\t VX     & 39.813917\\\\\n",
       "\\end{tabular}\n"
      ],
      "text/markdown": [
       "\n",
       "A tibble: 9 × 2\n",
       "\n",
       "| Reporting_Airline &lt;chr&gt; | sd_carrier_delay &lt;dbl&gt; |\n",
       "|---|---|\n",
       "| AA     | 36.047287 |\n",
       "| AS     | 19.039831 |\n",
       "| B6     | 29.040280 |\n",
       "| DL     | 99.775375 |\n",
       "| HP     |  8.164966 |\n",
       "| PA (1) |       NaN |\n",
       "| TW     |       NaN |\n",
       "| UA     | 35.396821 |\n",
       "| VX     | 39.813917 |\n",
       "\n"
      ],
      "text/plain": [
       "  Reporting_Airline sd_carrier_delay\n",
       "1 AA                36.047287       \n",
       "2 AS                19.039831       \n",
       "3 B6                29.040280       \n",
       "4 DL                99.775375       \n",
       "5 HP                 8.164966       \n",
       "6 PA (1)                  NaN       \n",
       "7 TW                      NaN       \n",
       "8 UA                35.396821       \n",
       "9 VX                39.813917       "
      ]
     },
     "metadata": {},
     "output_type": "display_data"
    }
   ],
   "source": [
    "# group_by / summarise workflow example\n",
    "sub_airline %>%\n",
    "  group_by(Reporting_Airline) %>%\n",
    "  summarize(sd_carrier_delay = sd(CarrierDelay, na.rm = TRUE)) # use standard deviation"
   ]
  },
  {
   "cell_type": "markdown",
   "metadata": {
    "tags": []
   },
   "source": [
    "<div class=\"alert alert-danger alertdanger\" style=\"margin-top: 20px\">\n",
    "<h1> Question #3: </h1>\n",
    "\n",
    "Using `sub_airline`, get the mean of `ArrDelay` for each `Reporting_Airline`.\n",
    "In other words, group by `Reporting_Airline` and summarize the mean of `ArrDelay` of each reporting airline. Remember to use `na.rm = TRUE`.\n",
    "\n",
    "</div>\n"
   ]
  },
  {
   "cell_type": "markdown",
   "metadata": {
    "tags": []
   },
   "source": [
    "\n",
    "sub_airline %>%\n",
    "  group_by(Reporting_Airline) %>%\n",
    "  summarize(airline_Delay = mean(ArrDelay, na.rm = TRUE))\n",
    "\n"
   ]
  },
  {
   "cell_type": "markdown",
   "metadata": {},
   "source": [
    "### Glimpse\n",
    "\n",
    "Another method you can use to check your dataset is:\n"
   ]
  },
  {
   "cell_type": "raw",
   "metadata": {},
   "source": [
    "glimpse()"
   ]
  },
  {
   "cell_type": "markdown",
   "metadata": {},
   "source": [
    "It provide a concise summary of your DataFrame.\n"
   ]
  },
  {
   "cell_type": "code",
   "execution_count": 20,
   "metadata": {},
   "outputs": [
    {
     "name": "stdout",
     "output_type": "stream",
     "text": [
      "Rows: 2,855\n",
      "Columns: 21\n",
      "$ Month             <dbl> 3, 11, 8, 4, 11, 4, 12, 12, 2, 3, 10, 8, 6, 2, 8, 3…\n",
      "$ DayOfWeek         <dbl> 5, 4, 5, 7, 3, 1, 1, 3, 4, 4, 4, 5, 4, 3, 7, 6, 4, …\n",
      "$ FlightDate        <date> 2003-03-28, 2018-11-29, 2015-08-28, 2003-04-20, 20…\n",
      "$ Reporting_Airline <chr> \"UA\", \"AS\", \"UA\", \"DL\", \"UA\", \"UA\", \"VX\", \"HP\", \"UA…\n",
      "$ Origin            <chr> \"LAX\", \"LAX\", \"LAX\", \"LAX\", \"LAX\", \"LAX\", \"LAX\", \"L…\n",
      "$ Dest              <chr> \"JFK\", \"JFK\", \"JFK\", \"JFK\", \"JFK\", \"JFK\", \"JFK\", \"J…\n",
      "$ CRSDepTime        <chr> \"2210\", \"1045\", \"0805\", \"2205\", \"0840\", \"1450\", \"10…\n",
      "$ CRSArrTime        <chr> \"0615\", \"1912\", \"1634\", \"0619\", \"1653\", \"2308\", \"19…\n",
      "$ DepTime           <chr> \"2209\", \"1049\", \"0757\", \"2212\", \"0836\", \"1452\", \"10…\n",
      "$ ArrTime           <chr> \"0617\", \"1851\", \"1620\", \"0616\", \"1640\", \"2248\", \"19…\n",
      "$ ArrDelay          <dbl> 2, -21, -14, -3, -13, -20, 1, -40, 25, 7, 5, 34, 21…\n",
      "$ ArrDelayMinutes   <dbl> 2, 0, 0, 0, 0, 0, 1, 0, 25, 7, 5, 34, 21, 0, 14, 68…\n",
      "$ CarrierDelay      <dbl> NA, NA, NA, NA, NA, NA, NA, NA, NA, NA, NA, 11, 0, …\n",
      "$ WeatherDelay      <dbl> NA, NA, NA, NA, NA, NA, NA, NA, NA, NA, NA, 0, 0, N…\n",
      "$ NASDelay          <dbl> NA, NA, NA, NA, NA, NA, NA, NA, NA, NA, NA, 23, 21,…\n",
      "$ SecurityDelay     <dbl> NA, NA, NA, NA, NA, NA, NA, NA, NA, NA, NA, 0, 0, N…\n",
      "$ LateAircraftDelay <dbl> NA, NA, NA, NA, NA, NA, NA, NA, NA, NA, NA, 0, 0, N…\n",
      "$ DepDelay          <dbl> -1, 4, -8, 7, -4, 2, -2, -2, 2, 15, 2, 21, -8, -2, …\n",
      "$ DepDelayMinutes   <dbl> 0, 4, 0, 7, 0, 2, 0, 0, 2, 15, 2, 21, 0, 0, 0, 395,…\n",
      "$ DivDistance       <dbl> NA, NA, NA, NA, NA, NA, NA, NA, NA, NA, NA, NA, NA,…\n",
      "$ DivArrDelay       <dbl> NA, NA, NA, NA, NA, NA, NA, NA, NA, NA, NA, NA, NA,…\n"
     ]
    }
   ],
   "source": [
    "# look at the info of airline dataset\n",
    "glimpse(sub_airline)"
   ]
  },
  {
   "cell_type": "markdown",
   "metadata": {},
   "source": [
    "<p>\n",
    "Here we are able to see the information of our dataframe, it prints out column names, column types, and first few values for brief data previews. It also shows us this subset dataset has 2,855 rows and 21 columns. \n",
    "</p>\n",
    "\n",
    "This subset dataset `sub_airline` (\"lax_to_jfk.csv\") will be used throughout the course.\n"
   ]
  },
  {
   "cell_type": "markdown",
   "metadata": {},
   "source": [
    "<h1>Excellent! You have just completed the  Introduction  Notebook!</h1>\n"
   ]
  },
  {
   "cell_type": "markdown",
   "metadata": {},
   "source": [
    "Copyright © 2021 IBM Corporation. All rights reserved.\n"
   ]
  }
 ],
 "metadata": {
  "anaconda-cloud": {},
  "kernelspec": {
   "display_name": "R",
   "language": "R",
   "name": "conda-env-r-r"
  },
  "language_info": {
   "codemirror_mode": "r",
   "file_extension": ".r",
   "mimetype": "text/x-r-source",
   "name": "R",
   "pygments_lexer": "r",
   "version": "3.5.1"
  }
 },
 "nbformat": 4,
 "nbformat_minor": 4
}
